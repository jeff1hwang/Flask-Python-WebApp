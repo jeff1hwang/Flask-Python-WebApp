{
 "cells": [
  {
   "cell_type": "markdown",
   "id": "f8247d3d",
   "metadata": {},
   "source": [
    "# Blog Post2 - Simple Flask Web Development\n"
   ]
  },
  {
   "cell_type": "markdown",
   "id": "13050879",
   "metadata": {},
   "source": [
    "Hi everyone! In this blog post, I am going to create a simple, interesting Message Bank webapp using Flask. This webapp allows users to submit and view their message on the web page. In this tuturial, I will show you how to create this webapp step by step!\n",
    "\n",
    "The skills/languages we will use to create this webapp:\n",
    "\n",
    "- Python\n",
    "- HTML\n",
    "- CSS\n",
    "- SQL"
   ]
  },
  {
   "cell_type": "markdown",
   "id": "19903d27",
   "metadata": {},
   "source": [
    "## §1. Enable Submissions"
   ]
  },
  {
   "cell_type": "markdown",
   "id": "dce2056f",
   "metadata": {},
   "source": [
    "First of all, we need to create a 'submit' template with three user interface elements:\n",
    "\n",
    "1. text box 1 - Submit the message\n",
    "2. text box 2 - Submit the name of the user\n",
    "3. A 'submit' botton"
   ]
  },
  {
   "cell_type": "markdown",
   "id": "35a5a69d",
   "metadata": {},
   "source": [
    "### HTML Files"
   ]
  },
  {
   "cell_type": "markdown",
   "id": "26f331a5",
   "metadata": {},
   "source": [
    "We first create two HTML files, \"base.html\", \"submit.html\". We put navigation links inside the template \"base.html\", and we then had the \"submit.html\" extend \"base.html\"."
   ]
  },
  {
   "cell_type": "markdown",
   "id": "fea3d16c",
   "metadata": {},
   "source": [
    "**base.html**"
   ]
  },
  {
   "cell_type": "code",
   "execution_count": null,
   "id": "153ad57c",
   "metadata": {},
   "outputs": [],
   "source": [
    "<!doctype html>\n",
    "<!-- Link to the CSS stylesheet -->\n",
    "<link rel=\"stylesheet\" href=\"{{ url_for('static', filename='style.css') }}\">\n",
    "\n",
    "<!-- This appears at the top of the browser window -->\n",
    "<title>Blog Post 2</title>\n",
    "<nav>\n",
    "  <!-- Web page heading -->\n",
    "  <h1>A Simple Message Bank By Jeff</h1>\n",
    "  <ul>\n",
    "    <!-- Link the submit page on main page -->\n",
    "    <li><a href=\"{{ url_for('submit') }}\">Submit a Message</a></li>\n",
    "    <!-- Link the view page on main page -->\n",
    "    <li><a href=\"{{ url_for('view') }}\">View Messages</a></li>\n",
    "  </ul>\n",
    "</nav>\n",
    "\n",
    "<section class=\"content\">\n",
    "  <header>\n",
    "    {% block header %}{% endblock %}\n",
    "  </header>\n",
    "  {% block content %}\n",
    "    <br>\n",
    "    <p> Welcome to Jeff's simple message bank! Click Submit button to submit a message and view them by clicking View Message</p>\n",
    "  {% endblock %}\n",
    "</section>"
   ]
  },
  {
   "cell_type": "markdown",
   "id": "4ffdc993",
   "metadata": {},
   "source": [
    "**submit.html**"
   ]
  },
  {
   "cell_type": "code",
   "execution_count": null,
   "id": "beab83b4",
   "metadata": {},
   "outputs": [],
   "source": [
    "<!--The Submit Message Page Extended from base.html-->\n",
    "\n",
    "{% extends 'base.html' %}\n",
    "\n",
    "{% block header %}\n",
    "  <h1>{% block title %}Enter Your Message and Name{% endblock %}</h1>\n",
    "{% endblock %}\n",
    "\n",
    "{% block content %}\n",
    "    <!-- Creating the three user interfaces within a form tag -->\n",
    "    <br>\n",
    "    <form method=\"post\">\n",
    "\n",
    "      <!-- Create a text box to submit names or handles -->\n",
    "      <label for=\"handle\">Enter Your Name</label>\n",
    "      <input type=\"text\" name=\"handle\" id=\"handle\">\n",
    "      <br>\n",
    "\n",
    "      <!-- Create a text box to submit a message -->\n",
    "      <label for=\"message\">Enter Your Message:</label>\n",
    "      <input type=\"text\" name=\"message\" id=\"message\">\n",
    "      <br>\n",
    "      \n",
    "      <!-- Creating a submit button -->\n",
    "      <input type=\"submit\" value=\"Submit message\">\n",
    "    </form>\n",
    "\n",
    "{% if thanks %}\n",
    "    <b>Thank you for submitting a message!</b>\n",
    "{% endif %}\n",
    "\n",
    "    \n",
    "{% endblock %}"
   ]
  },
  {
   "cell_type": "markdown",
   "id": "a48af5ca",
   "metadata": {},
   "source": [
    "Then, we create a new file \"app.py\" and write two Python functions for database management:\n",
    "\n",
    "- **get_message_db():** This function will create the database of messages.\n",
    "\n",
    "- **insert_message(request):** This function will handle inserting a user messageinto the database of messages we've create using get_message_db()"
   ]
  },
  {
   "cell_type": "markdown",
   "id": "72f9762f",
   "metadata": {},
   "source": [
    "Before we start writing our function, we need to make sure we've imported necessary packages. Also, we should create an instance of the Flask class with the name of our web app module. This will enable Flask to locate our template and static/CSS file."
   ]
  },
  {
   "cell_type": "code",
   "execution_count": null,
   "id": "74a3cb56",
   "metadata": {},
   "outputs": [],
   "source": [
    "from random import random\n",
    "from flask import Flask, g, render_template, request\n",
    "import sqlite3\n",
    "\n",
    "app = Flask(__name__)"
   ]
  },
  {
   "cell_type": "markdown",
   "id": "16a22799",
   "metadata": {},
   "source": [
    "Then, let's define our get_message_db() function"
   ]
  },
  {
   "cell_type": "code",
   "execution_count": null,
   "id": "515f885f",
   "metadata": {},
   "outputs": [],
   "source": [
    "def get_message_db():\n",
    "    '''\n",
    "    This function check whether there is a \n",
    "    database call \"message_db\". If not, we connect to\n",
    "    that database.\n",
    "    '''\n",
    "    # open a database to store the messages\n",
    "    if \"message_db\" not in g:\n",
    "        g.message_db = sqlite3.connect(\"messages_db.sqlite\")\n",
    "    cursor = g.message_db.cursor()\n",
    "\n",
    "    # Check whether a table called messages exists in message_db\n",
    "    # Create this table if not\n",
    "    cmd = \"CREATE TABLE IF NOT EXISTS \\\n",
    "    messages (id integer PRIMARY KEY \\\n",
    "    AUTOINCREMENT, handle text, message text)\"\n",
    "    cursor.execute(cmd)\n",
    "    \n",
    "    # Don't forget to close the database\n",
    "    cursor.close()\n",
    "    return g.message_db"
   ]
  },
  {
   "cell_type": "markdown",
   "id": "8ee0a8a1",
   "metadata": {},
   "source": [
    "Next, we define \"insert_message(request)\" function."
   ]
  },
  {
   "cell_type": "code",
   "execution_count": null,
   "id": "883807d8",
   "metadata": {},
   "outputs": [],
   "source": [
    "def insert_message(request):\n",
    "    '''\n",
    "    This function handle inserting a user message\n",
    "    into the database of messages.\n",
    "    '''\n",
    "    # Extract message and handle\n",
    "    input_message = request.form['message']\n",
    "    input_handle = request.form['handle']\n",
    "\n",
    "    # Insert the message into the message database\n",
    "    # using a cursor\n",
    "    db = get_message_db()\n",
    "    cursor = db.cursor()\n",
    "    cursor.execute(f\"INSERT INTO messages (handle, message) VALUES (?, ?)\", (input_handle, input_message))\n",
    "\n",
    "    # Ensure that the row insertion has been saved\n",
    "    db.commit()\n",
    "    \n",
    "    # Close the database\n",
    "    db.close()"
   ]
  },
  {
   "cell_type": "markdown",
   "id": "eb4c3076",
   "metadata": {},
   "source": [
    "Then, let's update our \"app.py\" file by defining main() and submit() functions."
   ]
  },
  {
   "cell_type": "code",
   "execution_count": null,
   "id": "347b563b",
   "metadata": {},
   "outputs": [],
   "source": [
    "# Define main() function\n",
    "@app.route(\"/\")\n",
    "def main():\n",
    "    '''\n",
    "    This function set the base template \n",
    "    to be the home page\n",
    "    '''\n",
    "    return render_template('base.html')"
   ]
  },
  {
   "cell_type": "code",
   "execution_count": null,
   "id": "7233f9c8",
   "metadata": {},
   "outputs": [],
   "source": [
    "# Define submit() function so that we can put the message into\n",
    "# the database\n",
    "@app.route(\"/submit/\", methods=['GET', 'POST'])\n",
    "def submit():\n",
    "    '''\n",
    "    This function allow us to submit the name \n",
    "    and message into the database.\n",
    "    '''\n",
    "    # Jump to the submit page if we receive \"GET\" methods\n",
    "    if request.method == 'GET':\n",
    "        return render_template('submit.html')\n",
    "    # Insert messages into database if \"POST\" request\n",
    "    # And return to submit template after submitting message\n",
    "    else:\n",
    "        insert_message(request)\n",
    "        return render_template('submit.html', thanks=True)"
   ]
  },
  {
   "cell_type": "markdown",
   "id": "cdb60472",
   "metadata": {},
   "source": [
    "## §2. Viewing Random Submissions"
   ]
  },
  {
   "cell_type": "markdown",
   "id": "0e5cadae",
   "metadata": {},
   "source": [
    "In first part, we've create the 'base' and 'submit' templates, and we've also updated 'main()' and 'submit()' methods in the 'app.py' file. Now in second part, we are going to write a 'view' template to randomly view our submissions. "
   ]
  },
  {
   "cell_type": "markdown",
   "id": "b98df38b",
   "metadata": {},
   "source": [
    "**random_messages()**"
   ]
  },
  {
   "cell_type": "markdown",
   "id": "1c7045a2",
   "metadata": {},
   "source": [
    "We first write a function in 'app.py' file called 'random_messages()' to return a collection of n random messsages from the database 'message_db'."
   ]
  },
  {
   "cell_type": "code",
   "execution_count": null,
   "id": "522ff1ef",
   "metadata": {},
   "outputs": [],
   "source": [
    "def random_messages(n):\n",
    "    '''\n",
    "    This function return a collection \n",
    "    of n random messages from the 'message_db'\n",
    "    # First we connect the database\n",
    "    '''\n",
    "    # connect to the database\n",
    "    db = get_message_db()\n",
    "    cursor = db.cursor()\n",
    "    n_random_message = cursor.execute(f'SELECT message, handle FROM messages ORDER BY RANDOM() LIMIT {n}').fetchall()\n",
    "\n",
    "    # Close the database\n",
    "    db.close()\n",
    "    # return n random messages\n",
    "    return n_random_message"
   ]
  },
  {
   "cell_type": "markdown",
   "id": "e5a2fe09",
   "metadata": {},
   "source": [
    "**view()**"
   ]
  },
  {
   "cell_type": "markdown",
   "id": "9a30dedd",
   "metadata": {},
   "source": [
    "Then, we define view() method to let the users randomly view 5 submissions. "
   ]
  },
  {
   "cell_type": "code",
   "execution_count": null,
   "id": "cd44ae22",
   "metadata": {},
   "outputs": [],
   "source": [
    "# Define view() function\n",
    "@app.route(\"/view/\", methods=['GET'])\n",
    "def view():\n",
    "    '''\n",
    "    This function allow us to pass\n",
    "    the random messages as an argument to\n",
    "    render_template().\n",
    "    '''\n",
    "    return render_template(\"view.html\", messages = random_messages(5))"
   ]
  },
  {
   "cell_type": "markdown",
   "id": "4da36e09",
   "metadata": {},
   "source": [
    "**view.html**"
   ]
  },
  {
   "cell_type": "markdown",
   "id": "8b308a8e",
   "metadata": {},
   "source": [
    "We then write our view template \"view.html\", and it should also extend \"base.html\". "
   ]
  },
  {
   "cell_type": "code",
   "execution_count": null,
   "id": "5522c8c7",
   "metadata": {},
   "outputs": [],
   "source": [
    "<!--The View Page Extended from base.html-->\n",
    "{% extends 'base.html' %}\n",
    "\n",
    "{% block header %}\n",
    "    <!-- Title -->\n",
    "<h1>{% block title %}Some Cool Messages{% endblock %}</h1>\n",
    "{% endblock %}\n",
    "\n",
    "{% block content %}\n",
    "  {% for m in messages %}\n",
    "  <br>\n",
    "  <b>{{m.1}}</b>\n",
    "  <br>\n",
    "  <i>- {{m.0}}</i>\n",
    "  <br>\n",
    "  {% endfor %}\n",
    "{% endblock %}"
   ]
  },
  {
   "cell_type": "markdown",
   "id": "3b9eb808",
   "metadata": {},
   "source": [
    "## §3. Customize Your App\n"
   ]
  },
  {
   "cell_type": "markdown",
   "id": "03e97f3c",
   "metadata": {},
   "source": [
    "To make our app more beautiful, we can customize our web app by editing the CSS."
   ]
  },
  {
   "cell_type": "markdown",
   "id": "a507332d",
   "metadata": {},
   "source": [
    "**style.css**"
   ]
  },
  {
   "cell_type": "code",
   "execution_count": null,
   "id": "985c8aa6",
   "metadata": {},
   "outputs": [],
   "source": [
    "html {\n",
    "    background: rgb(249, 205, 173);\n",
    "    padding: 1rem;\n",
    "    font-family: Monospace;\n",
    "    font-size: x-large;\n",
    "}\n",
    "\n",
    "body {\n",
    "    max-width: 900px;\n",
    "    margin: 0 auto;\n",
    "    line-height: 1cm;\n",
    "\n",
    "}\n",
    "\n",
    "h1 {\n",
    "    color: rgb(23, 23, 24);\n",
    "    font-family: cursive;\n",
    "    margin: 1 auto;\n",
    "    text-align: center;\n",
    "    padding: 1rem;\n",
    "}\n",
    "\n",
    "nav {\n",
    "    padding: 0 1rem;\n",
    "    border-radius: 25px;\n",
    "    max-width: 5000px;\n",
    "}\n",
    "\n",
    "nav ul li a {\n",
    "    display: block;\n",
    "    padding: 0.4rem;\n",
    "}\n",
    "\n",
    "\n",
    "input {\n",
    "    outline-style: none;\n",
    "    border-radius: 3px;\n",
    "}\n",
    "\n",
    "a {\n",
    "    text-decoration: none;\n",
    "}"
   ]
  },
  {
   "cell_type": "markdown",
   "id": "94bc4018",
   "metadata": {},
   "source": [
    "Let's see some screenshots of our web app! Also, we should remember to activate the appropriate PIC16B conda environment and navigate to the directory where app.py file located at. After activate the conda environment, we run the following code in the terminal before we test our web app."
   ]
  },
  {
   "cell_type": "code",
   "execution_count": null,
   "id": "3dc7ae3d",
   "metadata": {},
   "outputs": [],
   "source": [
    "conda activate PIC16B\n",
    "export FLASK_ENV=development\n",
    "flask run"
   ]
  },
  {
   "cell_type": "markdown",
   "id": "55ef9791",
   "metadata": {},
   "source": [
    "**Screencap 1 - Example of a user submitting a message** "
   ]
  },
  {
   "cell_type": "markdown",
   "id": "be09a3aa",
   "metadata": {},
   "source": [
    "![Figure 1](https://github.com/jeff1hwang/jeff1hwang.github.io/blob/master/images/blog_post2/figure4.png?raw=true)"
   ]
  },
  {
   "cell_type": "markdown",
   "id": "907dba30",
   "metadata": {},
   "source": [
    "**Screencap 2 - An example of a user viewing submitted messages**"
   ]
  },
  {
   "cell_type": "markdown",
   "id": "0f9ca4c7",
   "metadata": {},
   "source": [
    "![Figure 2](https://github.com/jeff1hwang/jeff1hwang.github.io/blob/master/images/blog_post2/figure5.png?raw=true)"
   ]
  }
 ],
 "metadata": {
  "kernelspec": {
   "display_name": "Python 3",
   "language": "python",
   "name": "python3"
  },
  "language_info": {
   "codemirror_mode": {
    "name": "ipython",
    "version": 3
   },
   "file_extension": ".py",
   "mimetype": "text/x-python",
   "name": "python",
   "nbconvert_exporter": "python",
   "pygments_lexer": "ipython3",
   "version": "3.8.8"
  }
 },
 "nbformat": 4,
 "nbformat_minor": 5
}
